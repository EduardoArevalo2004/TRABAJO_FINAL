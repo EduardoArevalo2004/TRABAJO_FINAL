{
 "cells": [
  {
   "cell_type": "markdown",
   "id": "386f9497-6429-409a-aeba-c49ebc84eb4a",
   "metadata": {},
   "source": [
    "# TRABAJO FINAL"
   ]
  },
  {
   "cell_type": "markdown",
   "id": "bb84dca1",
   "metadata": {},
   "source": [
    "## INTRODUCCIÓN\n",
    "En la era digital actual, la accesibilidad y diversidad de eventos culturales en las ciudades son aspectos fundamentales que no solo enriquecen la vida urbana, sino que también reflejan la vitalidad cultural de una comunidad. El aumento de plataformas en línea ha democratizado el acceso a información sobre eventos, permitiendo a los ciudadanos y visitantes explorar una amplia gama de actividades culturales con facilidad. En este contexto, el presente proyecto se enfoca en comparar la oferta de eventos culturales utilizando las APIs gratuitas de Eventful y Eventbrite. Estas plataformas destacan por su capacidad de aglutinar eventos diversos, desde exposiciones artísticas y conciertos hasta conferencias y festivales, ofreciendo una ventana al dinámico panorama cultural de diversas ciudades alrededor del mundo"
   ]
  },
  {
   "cell_type": "markdown",
   "id": "d30e5132",
   "metadata": {},
   "source": [
    "## OBJETIVOS\n",
    "\n",
    "1. **Obtener datos de eventos:** Utilizar las APIs de Eventful y Eventbrite para recopilar información básica de eventos como títulos, fechas, ubicaciones y descripciones.\n",
    "\n",
    "\n",
    "2. **Comparar la cantidad de eventos:** Implementar un algoritmo para contar y comparar la cantidad total de eventos culturales disponibles en cada plataforma para las ciudades seleccionadas.\n",
    "\n",
    "\n",
    "3. **Visualizar resultados:** Presentar los resultados del análisis mediante una manera simple y comprensible que muestren las diferencias en la cantidad de eventos culturales entre las dos plataformas."
   ]
  },
  {
   "cell_type": "code",
   "execution_count": null,
   "id": "d8bf62e7-99d8-4c78-b7cd-ba16097157e9",
   "metadata": {},
   "outputs": [],
   "source": [
    "##\n",
    "\n",
    "\n",
    "\n",
    "\n"
   ]
  },
  {
   "cell_type": "raw",
   "id": "b5468d15-35a1-4007-b6dc-8f1acf8bf73f",
   "metadata": {},
   "source": []
  }
 ],
 "metadata": {
  "kernelspec": {
   "display_name": "Python 3 (ipykernel)",
   "language": "python",
   "name": "python3"
  },
  "language_info": {
   "codemirror_mode": {
    "name": "ipython",
    "version": 3
   },
   "file_extension": ".py",
   "mimetype": "text/x-python",
   "name": "python",
   "nbconvert_exporter": "python",
   "pygments_lexer": "ipython3",
   "version": "3.9.12"
  }
 },
 "nbformat": 4,
 "nbformat_minor": 5
}
