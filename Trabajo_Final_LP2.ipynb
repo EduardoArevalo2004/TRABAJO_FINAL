{
 "cells": [
  {
   "cell_type": "markdown",
   "id": "386f9497-6429-409a-aeba-c49ebc84eb4a",
   "metadata": {},
   "source": [
    "# TRABAJO FINAL"
   ]
  },
  {
   "cell_type": "markdown",
   "id": "bb84dca1",
   "metadata": {},
   "source": [
    "## INTRODUCCIÓN\n",
    "En la era digital actual, la accesibilidad y diversidad de eventos culturales en las ciudades son aspectos fundamentales que no solo enriquecen la vida urbana, sino que también reflejan la vitalidad cultural de una comunidad. El aumento de plataformas en línea ha democratizado el acceso a información sobre eventos, permitiendo a los ciudadanos y visitantes explorar una amplia gama de actividades culturales con facilidad. En este contexto, el presente proyecto se enfoca en comparar la oferta de eventos culturales utilizando las APIs gratuitas de Eventful y Eventbrite. Estas plataformas destacan por su capacidad de aglutinar eventos diversos, desde exposiciones artísticas y conciertos hasta conferencias y festivales, ofreciendo una ventana al dinámico panorama cultural de diversas ciudades alrededor del mundo"
   ]
  },
  {
   "cell_type": "markdown",
   "id": "d30e5132",
   "metadata": {},
   "source": [
    "## OBJETIVOS\n",
    "\n",
    "1. **Obtener datos de eventos:** Utilizar las APIs de Eventful y Eventbrite para recopilar información básica de eventos como títulos, fechas, ubicaciones y descripciones.\n",
    "\n",
    "\n",
    "2. **Comparar la cantidad de eventos:** Implementar un algoritmo para contar y comparar la cantidad total de eventos culturales disponibles en cada plataforma para las ciudades seleccionadas.\n",
    "\n",
    "\n",
    "3. **Visualizar resultados:** Presentar los resultados del análisis mediante una manera simple y comprensible que muestren las diferencias en la cantidad de eventos culturales entre las dos plataformas."
   ]
  },
  {
   "cell_type": "markdown",
   "id": "3ee2e6a3-5314-43af-abc6-b91e9b2d1fe9",
   "metadata": {},
   "source": [
    "### Metodología\n"
   ]
  },
  {
   "cell_type": "markdown",
   "id": "5f8f0421-4409-415a-981a-a241d7f01c5b",
   "metadata": {},
   "source": [
    "#### APIS UTILIZADAS"
   ]
  },
  {
   "cell_type": "markdown",
   "id": "544e8a03-dae0-4213-9b50-cddaba4a9f79",
   "metadata": {},
   "source": [
    "##### Eventful API\n",
    "La API de Eventful permite acceder a una extensa base de datos de eventos que ocurren en todo el mundo. Está diseñada para facilitar la integración de información sobre eventos en aplicaciones web y móviles, ofreciendo datos detallados sobre conciertos, festivales, exposiciones, conferencias, actividades deportivas y más.\n",
    "\n",
    "###### Características principales:\n",
    "\n",
    "* Fecha: Permite buscar eventos según diferentes criterios de tiempo, como fechas específicas, rangos de fechas, y términos relativos (por ejemplo, \"hoy\", \"esta semana\").\n",
    "* Ubicación: La API permite buscar eventos en ubicaciones específicas, ya sea por ciudad, estado, país o incluso por coordenadas geográficas precisas.\n",
    "* Categorías: Los eventos están categorizados, lo que permite filtrar búsquedas por tipos de eventos como música, deportes, arte, tecnología, etc.\n",
    "\n",
    "##### All Events\n",
    "All Events es una plataforma en línea diseñada para ofrecer una extensa base de datos de eventos que ocurren en todo el mundo. Está orientada a facilitar la búsqueda y descubrimiento de eventos de interés, brindando detalles exhaustivos sobre conciertos, festivales, exposiciones, conferencias, actividades deportivas, y más.\n",
    "\n",
    "###### Características principales:\n",
    "* Fecha: La plataforma permite buscar eventos según diferentes criterios de tiempo, como fechas específicas, rangos de fechas, y términos relativos (por ejemplo, \"hoy\", \"este fin de semana\").\n",
    "* Ubicación: All Events permite buscar eventos en ubicaciones específicas, ya sea por ciudad, estado, país o incluso por coordenadas geográficas precisas.\n",
    "* Categorías: Los eventos están categorizados, lo que permite filtrar búsquedas por tipos de eventos como música, deportes, arte, tecnología, salud, entre otros.\n",
    "\n"
   ]
  },
  {
   "cell_type": "markdown",
   "id": "b45742b8-6962-420d-a6d3-c2941bd4512e",
   "metadata": {},
   "source": [
    "#### EXTRACCIÓN DE API"
   ]
  },
  {
   "cell_type": "markdown",
   "id": "15dfe5bb-d98f-4edb-96f7-0cc1b011472d",
   "metadata": {},
   "source": [
    "##### Eventful API"
   ]
  },
  {
   "cell_type": "code",
   "execution_count": 43,
   "id": "068a2c67-c87f-4b97-a3f3-dea131f73110",
   "metadata": {},
   "outputs": [
    {
     "name": "stdout",
     "output_type": "stream",
     "text": [
      "{'count': 5000, 'overflow': True, 'next': 'https://api.predicthq.com/v1/events/?limit=10&offset=10', 'previous': None, 'results': [{'relevance': 0.0, 'id': '33Qv367J3tnMknZ8p6', 'title': \"The Used with Plain White T's and Raue\", 'alternate_titles': ['The Used at House Of Blues'], 'description': 'Sourced from predicthq.com', 'category': 'concerts', 'labels': ['concert', 'music'], 'rank': 52, 'local_rank': 74, 'phq_attendance': 1222, 'entities': [{'entity_id': '33ByD3ZdbHaqack22DKKeMu', 'name': 'House of Blues New Orleans', 'type': 'venue', 'formatted_address': '225 Decatur Street\\nNew Orleans, LA 70130\\nUnited States of America'}], 'duration': 0, 'start': '2024-10-08T00:00:00Z', 'start_local': '2024-10-07T19:00:00', 'end': '2024-10-08T00:00:00Z', 'end_local': '2024-10-07T19:00:00', 'predicted_end': '2024-10-08T04:10:00Z', 'predicted_end_local': '2024-10-07T23:10:00', 'updated': '2024-07-10T12:51:30Z', 'first_seen': '2024-06-12T01:41:17Z', 'timezone': 'America/Chicago', 'location': [-90.06627349999997, 29.9534124], 'geo': {'geometry': {'coordinates': [-90.06627349999997, 29.9534124], 'type': 'Point'}, 'placekey': '248-222@8dy-qtz-rzf', 'address': {'country_code': 'US', 'formatted_address': '225 Decatur Street\\nNew Orleans, LA 70130\\nUnited States of America', 'postcode': '70130', 'locality': 'New Orleans', 'region': 'Louisiana'}}, 'impact_patterns': [{'vertical': 'accommodation', 'impact_type': 'phq_attendance', 'impacts': [{'date_local': '2024-10-06', 'value': 245, 'position': 'leading'}, {'date_local': '2024-10-07', 'value': 1222, 'position': 'event_day'}, {'date_local': '2024-10-08', 'value': 123, 'position': 'lagging'}]}, {'vertical': 'hospitality', 'impact_type': 'phq_attendance', 'impacts': [{'date_local': '2024-10-06', 'value': 184, 'position': 'leading'}, {'date_local': '2024-10-07', 'value': 1222, 'position': 'event_day'}, {'date_local': '2024-10-08', 'value': 37, 'position': 'lagging'}]}, {'vertical': 'retail', 'impact_type': 'phq_attendance', 'impacts': [{'date_local': '2024-10-07', 'value': 1222, 'position': 'event_day'}]}], 'scope': 'locality', 'country': 'US', 'place_hierarchies': [['6295630', '6255149', '6252001', '4331987', '4336191', '4335053', '4342708'], ['6295630', '6255149', '6252001', '4331987', '4336191', '4335053', '4335045']], 'state': 'active', 'brand_safe': True, 'private': False, 'predicted_event_spend': 43083, 'predicted_event_spend_industries': {'accommodation': 10881, 'hospitality': 18138, 'transportation': 14063}, 'phq_labels': [{'label': 'rock', 'weight': 0.78}, {'label': 'pop', 'weight': 0.22}]}, {'relevance': 0.0, 'id': '38M3dk2RTsmrMrr5Dr', 'title': 'MJ Lenderman', 'description': 'Sourced from predicthq.com', 'category': 'concerts', 'labels': ['concert', 'music'], 'rank': 45, 'local_rank': 69, 'phq_attendance': 576, 'entities': [{'entity_id': 'dfKJpsEePxPnEiTkCkF9Pj', 'name': 'The Whirling Tiger', 'type': 'venue', 'formatted_address': '1335 Story Ave, Louisville, KY 40206, USA'}], 'duration': 0, 'start': '2024-10-08T00:00:00Z', 'start_local': '2024-10-07T20:00:00', 'end': '2024-10-08T00:00:00Z', 'end_local': '2024-10-07T20:00:00', 'predicted_end': '2024-10-08T04:10:00Z', 'predicted_end_local': '2024-10-08T00:10:00', 'updated': '2024-07-10T12:52:26Z', 'first_seen': '2024-07-09T18:39:15Z', 'timezone': 'America/Kentucky/Louisville', 'location': [-85.7267679, 38.2568317], 'geo': {'geometry': {'coordinates': [-85.7267679, 38.2568317], 'type': 'Point'}, 'placekey': '222-223@5px-7f8-4d9', 'address': {'country_code': 'US', 'formatted_address': '1335 Story Ave, Louisville, KY 40206, USA', 'postcode': '40206', 'locality': 'Louisville', 'region': 'Kentucky'}}, 'impact_patterns': [{'vertical': 'accommodation', 'impact_type': 'phq_attendance', 'impacts': [{'date_local': '2024-10-07', 'value': 576, 'position': 'event_day'}]}, {'vertical': 'hospitality', 'impact_type': 'phq_attendance', 'impacts': [{'date_local': '2024-10-06', 'value': 87, 'position': 'leading'}, {'date_local': '2024-10-07', 'value': 576, 'position': 'event_day'}, {'date_local': '2024-10-08', 'value': 18, 'position': 'lagging'}]}, {'vertical': 'retail', 'impact_type': 'phq_attendance', 'impacts': [{'date_local': '2024-10-07', 'value': 576, 'position': 'event_day'}]}], 'scope': 'locality', 'country': 'US', 'place_hierarchies': [['6295630', '6255149', '6252001', '6254925', '4296212', '4288036'], ['6295630', '6255149', '6252001', '6254925', '4296212', '4299276']], 'state': 'active', 'brand_safe': True, 'private': False, 'predicted_event_spend': 18180, 'predicted_event_spend_industries': {'accommodation': 3694, 'hospitality': 8297, 'transportation': 6188}, 'phq_labels': [{'label': 'rock', 'weight': 0.71}, {'label': 'pop', 'weight': 0.29}]}, {'relevance': 0.0, 'id': '39ZwWVwGyTafz9cAi8', 'title': 'Titanic - the Artifact Exhibition', 'description': \"Sourced from predicthq.com - Experience the wonder and tragedy of the world's most famous ocean-liner, Titanic. Viewed by more than 25 million people worldwide, the Exhibition is one of the highest attended in history. The Exhibition is open daily from 11:00 AM to 6:00 PM, the last admission is at 5:00 PM.\", 'category': 'expos', 'labels': ['entertainment', 'expo', 'performing-arts'], 'rank': 46, 'local_rank': 64, 'phq_attendance': 645, 'entities': [{'entity_id': 'n39ebSif3t6ULNNCMRKW9H', 'name': 'Titanic: The Artifact Exhibition', 'type': 'venue', 'formatted_address': 'Las Vegas, NV 89109, United States of America'}], 'duration': 0, 'start': '2024-10-08T00:00:00Z', 'start_local': '2024-10-07T17:00:00', 'end': '2024-10-08T00:00:00Z', 'end_local': '2024-10-07T17:00:00', 'updated': '2024-05-28T22:28:19Z', 'first_seen': '2023-11-03T01:12:58Z', 'timezone': 'America/Los_Angeles', 'location': [-115.175768, 36.095599], 'geo': {'geometry': {'coordinates': [-115.175768, 36.095599], 'type': 'Point'}, 'placekey': '@5yv-j8h-3nq', 'address': {'country_code': 'US', 'formatted_address': 'Las Vegas, NV 89109, United States of America', 'postcode': '89109', 'locality': 'Las Vegas', 'region': 'Nevada'}}, 'impact_patterns': [{'vertical': 'accommodation', 'impact_type': 'phq_attendance', 'impacts': [{'date_local': '2024-10-07', 'value': 645, 'position': 'event_day'}]}, {'vertical': 'hospitality', 'impact_type': 'phq_attendance', 'impacts': [{'date_local': '2024-10-06', 'value': 26, 'position': 'leading'}, {'date_local': '2024-10-07', 'value': 645, 'position': 'event_day'}]}, {'vertical': 'retail', 'impact_type': 'phq_attendance', 'impacts': [{'date_local': '2024-10-07', 'value': 645, 'position': 'event_day'}]}], 'scope': 'locality', 'country': 'US', 'place_hierarchies': [['6295630', '6255149', '6252001', '5509151', '5501879', '5500639'], ['6295630', '6255149', '6252001', '5509151', '5501879', '5506956']], 'state': 'active', 'brand_safe': True, 'private': False, 'predicted_event_spend': 64047, 'predicted_event_spend_industries': {'accommodation': 30864, 'hospitality': 25890, 'transportation': 7292}, 'phq_labels': [{'label': 'literature-film-and-theater', 'weight': 0.437}, {'label': 'art-and-cultural', 'weight': 0.377}, {'label': 'festivals-and-outdoor-activities', 'weight': 0.185}]}, {'relevance': 0.0, 'id': '3aMbcSPFnkEWVBQMpB', 'title': 'Kishi Bashi', 'alternate_titles': ['Kishi Bashi and Sweet Loretta', 'Kishi Bashi at Warsaw'], 'description': 'Sourced from predicthq.com', 'category': 'concerts', 'labels': ['concert', 'music'], 'rank': 44, 'local_rank': 47, 'phq_attendance': 518, 'entities': [{'entity_id': 'Y8qqQ6zqYVKTxTUhbvRwch', 'name': 'Warsaw', 'type': 'venue', 'formatted_address': '261 Driggs Ave, Brooklyn, NY 11222, USA'}], 'duration': 0, 'start': '2024-10-08T00:00:00Z', 'start_local': '2024-10-07T20:00:00', 'end': '2024-10-08T00:00:00Z', 'end_local': '2024-10-07T20:00:00', 'predicted_end': '2024-10-08T04:10:00Z', 'predicted_end_local': '2024-10-08T00:10:00', 'updated': '2024-07-10T06:42:54Z', 'first_seen': '2024-05-15T23:52:16Z', 'timezone': 'America/New_York', 'location': [-73.9485191, 40.7224421], 'geo': {'geometry': {'coordinates': [-73.9485191, 40.7224421], 'type': 'Point'}, 'placekey': '1i64rxw7di@627-s8g-yjv', 'address': {'country_code': 'US', 'formatted_address': '261 Driggs Ave, Brooklyn, NY 11222, USA', 'postcode': '11222', 'locality': 'Brooklyn', 'region': 'New York'}}, 'impact_patterns': [{'vertical': 'accommodation', 'impact_type': 'phq_attendance', 'impacts': [{'date_local': '2024-10-07', 'value': 518, 'position': 'event_day'}]}, {'vertical': 'hospitality', 'impact_type': 'phq_attendance', 'impacts': [{'date_local': '2024-10-06', 'value': 78, 'position': 'leading'}, {'date_local': '2024-10-07', 'value': 518, 'position': 'event_day'}, {'date_local': '2024-10-08', 'value': 16, 'position': 'lagging'}]}, {'vertical': 'retail', 'impact_type': 'phq_attendance', 'impacts': [{'date_local': '2024-10-07', 'value': 518, 'position': 'event_day'}]}], 'scope': 'locality', 'country': 'US', 'place_hierarchies': [['6295630', '6255149', '6252001', '5128638', '5128581', '6941775', '6332456']], 'state': 'active', 'brand_safe': True, 'private': False, 'predicted_event_spend': 24053, 'predicted_event_spend_industries': {'accommodation': 7499, 'hospitality': 9747, 'transportation': 6806}, 'phq_labels': [{'label': 'pop', 'weight': 0.56}, {'label': 'rock', 'weight': 0.44}]}, {'relevance': 0.0, 'id': '3b75VXwXWyepbuVvsS', 'title': 'Quarters Of Change', 'alternate_titles': ['Quarters of Change at Last Concert Cafe'], 'description': 'Sourced from predicthq.com', 'category': 'concerts', 'labels': ['concert', 'music'], 'rank': 39, 'local_rank': 51, 'phq_attendance': 289, 'entities': [{'entity_id': 'RArMQwDHq2wFRX4khFnwnL', 'name': 'Last Concert Cafe', 'type': 'venue', 'formatted_address': '1403 Nance St, Houston, TX 77002, USA'}], 'duration': 0, 'start': '2024-10-08T00:00:00Z', 'start_local': '2024-10-07T19:00:00', 'end': '2024-10-08T00:00:00Z', 'end_local': '2024-10-07T19:00:00', 'predicted_end': '2024-10-08T04:10:00Z', 'predicted_end_local': '2024-10-07T23:10:00', 'updated': '2024-07-10T12:50:50Z', 'first_seen': '2024-07-10T00:27:09Z', 'timezone': 'America/Chicago', 'location': [-95.3531539, 29.7683047], 'geo': {'geometry': {'coordinates': [-95.3531539, 29.7683047], 'type': 'Point'}, 'placekey': '227-222@8fc-fc7-x3q', 'address': {'country_code': 'US', 'formatted_address': '1403 Nance St, Houston, TX 77002, USA', 'postcode': '77002', 'locality': 'Houston', 'region': 'Texas'}}, 'impact_patterns': [{'vertical': 'accommodation', 'impact_type': 'phq_attendance', 'impacts': [{'date_local': '2024-10-07', 'value': 289, 'position': 'event_day'}]}, {'vertical': 'hospitality', 'impact_type': 'phq_attendance', 'impacts': [{'date_local': '2024-10-07', 'value': 289, 'position': 'event_day'}]}, {'vertical': 'retail', 'impact_type': 'phq_attendance', 'impacts': [{'date_local': '2024-10-07', 'value': 289, 'position': 'event_day'}]}], 'scope': 'locality', 'country': 'US', 'place_hierarchies': [['6295630', '6255149', '6252001', '4736286', '4691851', '4699066'], ['6295630', '6255149', '6252001', '4736286', '4712041', '4699066'], ['6295630', '6255149', '6252001', '4736286', '4696376', '4699066']], 'state': 'active', 'brand_safe': True, 'private': False, 'predicted_event_spend': 6229, 'predicted_event_spend_industries': {'accommodation': 0, 'hospitality': 3745, 'transportation': 2483}, 'phq_labels': [{'label': 'rock', 'weight': 1.0}]}, {'relevance': 0.0, 'id': '3m4PuTWMpXFKQkYhQ2', 'title': 'U.D.O. and Midnite Hellion', 'description': 'Sourced from predicthq.com', 'category': 'concerts', 'labels': ['concert', 'music'], 'rank': 38, 'local_rank': 50, 'phq_attendance': 251, 'entities': [{'entity_id': '37zN53Gbsy6SRvNqVDSca9', 'name': 'Shank Hall', 'type': 'venue', 'formatted_address': '1434 N Farwell Ave, Milwaukee, WI 53202, USA'}], 'duration': 0, 'start': '2024-10-08T00:00:00Z', 'start_local': '2024-10-07T19:00:00', 'end': '2024-10-08T00:00:00Z', 'end_local': '2024-10-07T19:00:00', 'predicted_end': '2024-10-08T04:10:00Z', 'predicted_end_local': '2024-10-07T23:10:00', 'updated': '2024-06-11T02:38:51Z', 'first_seen': '2024-03-05T22:00:50Z', 'timezone': 'America/Chicago', 'location': [-87.8962114, 43.0486464], 'geo': {'geometry': {'coordinates': [-87.8962114, 43.0486464], 'type': 'Point'}, 'placekey': '233-222@5sc-cqy-z2k', 'address': {'country_code': 'US', 'formatted_address': '1434 N Farwell Ave, Milwaukee, WI 53202, USA', 'postcode': '53202', 'locality': 'Milwaukee', 'region': 'Wisconsin'}}, 'impact_patterns': [{'vertical': 'accommodation', 'impact_type': 'phq_attendance', 'impacts': [{'date_local': '2024-10-07', 'value': 251, 'position': 'event_day'}]}, {'vertical': 'hospitality', 'impact_type': 'phq_attendance', 'impacts': [{'date_local': '2024-10-07', 'value': 251, 'position': 'event_day'}]}, {'vertical': 'retail', 'impact_type': 'phq_attendance', 'impacts': [{'date_local': '2024-10-07', 'value': 251, 'position': 'event_day'}]}], 'scope': 'locality', 'country': 'US', 'place_hierarchies': [['6295630', '6255149', '6252001', '5279468', '5278054', '5263099', '5263045'], ['6295630', '6255149', '6252001', '5279468', '5277887', '5263099', '5263045'], ['6295630', '6255149', '6252001', '5279468', '5263058', '5263099', '5263045']], 'state': 'active', 'brand_safe': True, 'private': False, 'predicted_event_spend': 4955, 'predicted_event_spend_industries': {'accommodation': 0, 'hospitality': 3076, 'transportation': 1878}, 'phq_labels': [{'label': 'rock', 'weight': 1.0}]}, {'relevance': 0.0, 'id': '3nNMw8uBpYaiAhvUfP', 'title': 'Sandcastle Workshops for Children and Adults', 'description': 'Sourced from predicthq.com - Discover the incredible world of sandcastle building by joining Sandshapers in this captivating sandcastle workshop.\\n\\nImmerse yourself in an unforgettable experience that will leave you with cherished memories of your time on The Sunshine Coast. Whether you are a child or an adult, this workshop is designed to cater to all ages, making it a perfect activity for families to enjoy together.\\n\\nWith over 19 years of expertise in creating mesmerizing sand sculptures in Noosa, Sandshapers are true masters of their craft. Their passion for teaching and engaging people in the art of building magnificent creations in the sand is evident in every workshop they conduct. \\n\\nFrom Rainbow Beach to Caloundra, you can get an instructor to travel to you!', 'category': 'community', 'labels': ['community'], 'rank': 30, 'local_rank': 55, 'phq_attendance': 100, 'entities': [{'entity_id': 'UrC8EJGkjEeLkSYkYMVAYj', 'name': 'Sandcastle Workshops for Children and Adults', 'type': 'event-group', 'category': 'community', 'labels': ['community', 'event-group', 'recurring']}], 'duration': 5400, 'start': '2024-10-08T00:00:00Z', 'start_local': '2024-10-08T10:00:00', 'end': '2024-10-08T01:30:00Z', 'end_local': '2024-10-08T11:30:00', 'updated': '2024-06-04T02:02:16Z', 'first_seen': '2023-11-04T14:01:46Z', 'timezone': 'Australia/Brisbane', 'location': [153.1018054, -26.4065351], 'geo': {'geometry': {'coordinates': [153.1018054, -26.4065351], 'type': 'Point'}, 'placekey': '@njb-3cf-35z', 'address': {'country_code': 'AU', 'formatted_address': 'Sunshine Beach QLD 4567, Australia', 'locality': 'Sunshine Beach', 'postcode': '4567', 'region': 'Queensland'}}, 'impact_patterns': [{'vertical': 'accommodation', 'impact_type': 'phq_attendance', 'impacts': [{'date_local': '2024-10-08', 'value': 100, 'position': 'event_day'}]}, {'vertical': 'hospitality', 'impact_type': 'phq_attendance', 'impacts': [{'date_local': '2024-10-08', 'value': 100, 'position': 'event_day'}]}, {'vertical': 'retail', 'impact_type': 'phq_attendance', 'impacts': [{'date_local': '2024-10-08', 'value': 100, 'position': 'event_day'}]}], 'scope': 'locality', 'country': 'AU', 'place_hierarchies': [['6295630', '6255151', '2077456', '2152274', '12047267', '11746419'], ['6295630', '6255151', '2077456', '2152274', '7839394', '10630449']], 'state': 'active', 'brand_safe': True, 'private': False, 'predicted_event_spend': 1238, 'predicted_event_spend_industries': {'accommodation': 0, 'hospitality': 873, 'transportation': 364}, 'phq_labels': [{'label': 'family-fun', 'weight': 1.0}]}, {'relevance': 0.0, 'id': '3zHepQtsewTAYHoDR4', 'title': 'Rottnest Island Double Dive Day', 'description': 'Sourced from predicthq.com - Are you a certified scuba divers looking for a relaxed and fun day out?\\n\\nJoin them for a great day of diving to beautiful Rottnest Island. Enjoy stunning landscapes with swim-throughs and plenty of fish life in a relaxed atmosphere.\\n\\nMoonshine is a private and quality charter with a hot shower and bathroom on board, and plenty of spaces. There will only be six divers and the crew for a casual and personal experience. They will provide a warm lunch, plenty of snacks and an enjoyable and relaxing day.', 'category': 'community', 'labels': ['community', 'sport'], 'rank': 26, 'local_rank': 49, 'phq_attendance': 60, 'entities': [{'entity_id': '36VEEFKLHCt6GWYFYqJcT7n', 'name': 'Rottnest Island Double Dive Day', 'type': 'event-group', 'category': 'sports', 'labels': ['event-group', 'recurring', 'sport']}], 'duration': 21600, 'start': '2024-10-08T00:00:00Z', 'start_local': '2024-10-08T08:00:00', 'end': '2024-10-08T06:00:00Z', 'end_local': '2024-10-08T14:00:00', 'updated': '2024-06-04T01:28:13Z', 'first_seen': '2024-02-15T10:04:39Z', 'timezone': 'Australia/Perth', 'location': [115.75623389999998, -32.041997], 'geo': {'geometry': {'coordinates': [115.75623389999998, -32.041997], 'type': 'Point'}, 'placekey': '@kdr-vgf-swk', 'address': {'country_code': 'AU', 'formatted_address': 'Beach Street, Fremantle WA 6160, Australia', 'locality': 'Fremantle', 'postcode': '6160', 'region': 'Western Australia'}}, 'impact_patterns': [{'vertical': 'accommodation', 'impact_type': 'phq_attendance', 'impacts': [{'date_local': '2024-10-08', 'value': 60, 'position': 'event_day'}]}, {'vertical': 'hospitality', 'impact_type': 'phq_attendance', 'impacts': [{'date_local': '2024-10-08', 'value': 60, 'position': 'event_day'}]}, {'vertical': 'retail', 'impact_type': 'phq_attendance', 'impacts': [{'date_local': '2024-10-08', 'value': 60, 'position': 'event_day'}]}], 'scope': 'locality', 'country': 'AU', 'place_hierarchies': [['6295630', '6255151', '2077456', '2058645', '7839504', '2078894'], ['6295630', '6255151', '2077456', '2058645', '7839486', '8394228']], 'state': 'active', 'brand_safe': True, 'private': False, 'predicted_event_spend': 857, 'predicted_event_spend_industries': {'accommodation': 0, 'hospitality': 619, 'transportation': 237}, 'phq_labels': [{'label': 'sport', 'weight': 0.587}, {'label': 'wellness', 'weight': 0.413}]}, {'relevance': 0.0, 'id': '43pEsVcN5T38VZaLQF', 'title': 'Alex The Red Parez aka El Rojo', 'description': 'Sourced from predicthq.com', 'category': 'community', 'labels': ['concert', 'music'], 'rank': 30, 'local_rank': 50, 'phq_attendance': 100, 'entities': [{'entity_id': 'WS4fhjapQ5CRSFUniCvMXL', 'name': \"Brittany's Restaurant\", 'type': 'venue', 'formatted_address': '12449 Dillingham Square, Woodbridge, VA 22192, United States of America'}], 'duration': 0, 'start': '2024-10-08T00:00:00Z', 'start_local': '2024-10-07T20:00:00', 'end': '2024-10-08T00:00:00Z', 'end_local': '2024-10-07T20:00:00', 'updated': '2024-05-24T14:20:27Z', 'first_seen': '2024-04-01T01:49:14Z', 'timezone': 'America/New_York', 'location': [-77.3176869, 38.6835256], 'geo': {'geometry': {'coordinates': [-77.3176869, 38.6835256], 'type': 'Point'}, 'placekey': '226-222@63r-tv7-sbk', 'address': {'country_code': 'US', 'formatted_address': '12449 Dillingham Square, Woodbridge, VA 22192, United States of America', 'postcode': '22192', 'locality': 'Woodbridge', 'region': 'Virginia'}}, 'impact_patterns': [{'vertical': 'accommodation', 'impact_type': 'phq_attendance', 'impacts': [{'date_local': '2024-10-07', 'value': 100, 'position': 'event_day'}]}, {'vertical': 'hospitality', 'impact_type': 'phq_attendance', 'impacts': [{'date_local': '2024-10-07', 'value': 100, 'position': 'event_day'}]}, {'vertical': 'retail', 'impact_type': 'phq_attendance', 'impacts': [{'date_local': '2024-10-07', 'value': 100, 'position': 'event_day'}]}], 'scope': 'locality', 'country': 'US', 'place_hierarchies': [['6295630', '6255149', '6252001', '6254928', '4780384', '4768351'], ['6295630', '6255149', '6252001', '6254928', '4771426', '4771401']], 'state': 'active', 'brand_safe': True, 'private': False, 'predicted_event_spend': 1446, 'predicted_event_spend_industries': {'accommodation': 0, 'hospitality': 1090, 'transportation': 355}}, {'relevance': 0.0, 'id': '4A5U3oS6fkvYGoTYcB', 'title': 'GVLLOW, wingtips, and Urban Heat', 'alternate_titles': ['Gvllow at MilkBoy'], 'description': 'Sourced from predicthq.com', 'category': 'concerts', 'labels': ['concert', 'music'], 'rank': 42, 'local_rank': 51, 'phq_attendance': 384, 'entities': [{'entity_id': 'GtRTZkCfu3uVYZUu4xi5XK', 'name': 'MilkBoy Philadelphia', 'type': 'venue', 'formatted_address': '1100 Chestnut St, Philadelphia, PA 19107, USA'}], 'duration': 0, 'start': '2024-10-08T00:00:00Z', 'start_local': '2024-10-07T20:00:00', 'end': '2024-10-08T00:00:00Z', 'end_local': '2024-10-07T20:00:00', 'predicted_end': '2024-10-08T04:10:00Z', 'predicted_end_local': '2024-10-08T00:10:00', 'updated': '2024-07-10T04:22:44Z', 'first_seen': '2024-05-30T05:57:01Z', 'timezone': 'America/New_York', 'location': [-75.1587931, 39.950125], 'geo': {'geometry': {'coordinates': [-75.1587931, 39.950125], 'type': 'Point'}, 'placekey': '228-222@628-pmb-6hq', 'address': {'country_code': 'US', 'formatted_address': '1100 Chestnut St, Philadelphia, PA 19107, USA', 'postcode': '19107', 'locality': 'Philadelphia', 'region': 'Pennsylvania'}}, 'impact_patterns': [{'vertical': 'accommodation', 'impact_type': 'phq_attendance', 'impacts': [{'date_local': '2024-10-07', 'value': 384, 'position': 'event_day'}]}, {'vertical': 'hospitality', 'impact_type': 'phq_attendance', 'impacts': [{'date_local': '2024-10-06', 'value': 58, 'position': 'leading'}, {'date_local': '2024-10-07', 'value': 384, 'position': 'event_day'}, {'date_local': '2024-10-08', 'value': 12, 'position': 'lagging'}]}, {'vertical': 'retail', 'impact_type': 'phq_attendance', 'impacts': [{'date_local': '2024-10-07', 'value': 384, 'position': 'event_day'}]}], 'scope': 'locality', 'country': 'US', 'place_hierarchies': [['6295630', '6255149', '6252001', '6254927', '5205788', '4560347', '4560349']], 'state': 'active', 'brand_safe': True, 'private': False, 'predicted_event_spend': 13911, 'predicted_event_spend_industries': {'accommodation': 2846, 'hospitality': 6033, 'transportation': 5031}, 'phq_labels': [{'label': 'rock', 'weight': 0.6}, {'label': 'pop', 'weight': 0.2}, {'label': 'electronic', 'weight': 0.2}]}]}\n"
     ]
    }
   ],
   "source": [
    "import requests\n",
    "\n",
    "# Reemplaza $ACCESS_TOKEN con tu token real\n",
    "ACCESS_TOKEN = \"lH1FqMJzoCJJ7VItOGiJDc9iuJYxbMFaSYwgntM3\"\n",
    "\n",
    "response = requests.get(\n",
    "    url=\"https://api.predicthq.com/v1/events\",\n",
    "    headers={\n",
    "        \"Authorization\": f\"Bearer {ACCESS_TOKEN}\",\n",
    "        \"Accept\": \"application/json\"\n",
    "    }\n",
    ")\n",
    "\n",
    "# Imprimir la respuesta JSON\n",
    "print(response.json())\n"
   ]
  },
  {
   "cell_type": "markdown",
   "id": "095168d8-cb23-4474-a0ff-87eacc5c34d6",
   "metadata": {},
   "source": [
    "##### Explicacion del codigo"
   ]
  },
  {
   "cell_type": "markdown",
   "id": "4c3503dd-d753-457c-a2bc-e327193efea1",
   "metadata": {},
   "source": [
    "* URL de la API: Se define la URL del endpoint de la API de PredictHQ que se va a utilizar. En este caso, la URL es 'https://api.predicthq.com/v1/events'.\n",
    "* Bearer Token: Se utiliza un token de autenticación (Bearer token) para autorizar la solicitud. Este token se incluye en los encabezados de la solicitud.\n",
    "* Realizar la Solicitud GET: Se utiliza la librería requests de Python para realizar una solicitud GET a la URL de la API con los encabezados especificados.\n",
    "* Procesamiento de la Respuesta: Se convierte la respuesta JSON en un diccionario de Python utilizando response.json()."
   ]
  },
  {
   "cell_type": "markdown",
   "id": "954be399-ea64-4035-b61f-85c694552e00",
   "metadata": {},
   "source": [
    "### EXTRACCION PAGINA WEB"
   ]
  },
  {
   "cell_type": "code",
   "execution_count": 44,
   "id": "d398cb5c-569b-4046-9444-12616a6d22ba",
   "metadata": {},
   "outputs": [
    {
     "name": "stdout",
     "output_type": "stream",
     "text": [
      "Obtuvimos la página\n"
     ]
    }
   ],
   "source": [
    "from bs4 import BeautifulSoup\n",
    "import requests\n",
    "\n",
    "url = \"https://allevents.in/los%20angeles/music?ref=eventlist-category-filter#search\"\n",
    "response = requests.get(url)\n",
    "\n",
    "if response.status_code == 200:\n",
    "    print(\"Obtuvimos la página\")\n",
    "else:\n",
    "    print(\"Error al cargar la web\")\n"
   ]
  },
  {
   "cell_type": "markdown",
   "id": "8b1816fc",
   "metadata": {},
   "source": [
    "## EXTRACCIÓN DE DATOS"
   ]
  },
  {
   "cell_type": "markdown",
   "id": "dd79efdd",
   "metadata": {},
   "source": [
    "### EVENTFUL"
   ]
  },
  {
   "cell_type": "code",
   "execution_count": 14,
   "id": "9283e7fa",
   "metadata": {},
   "outputs": [
    {
     "name": "stdout",
     "output_type": "stream",
     "text": [
      "--- Evento ---\n",
      "Título: Mason Ramsey\n",
      "Categoría: concerts\n",
      "Comienza: 2024-10-06T00:00:00Z\n",
      "Termina: 2024-10-06T00:00:00Z\n",
      "País: US\n",
      "Descripción: Sourced from predicthq.com\n",
      "Localización: [-81.0353, 33.9985]\n",
      "----------------\n",
      "--- Evento ---\n",
      "Título: Everything's Italian Heritage Show 2024 Rochester NY\n",
      "Categoría: concerts\n",
      "Comienza: 2024-10-06T00:00:00Z\n",
      "Termina: 2024-10-06T03:00:00Z\n",
      "País: US\n",
      "Descripción: Sourced from predicthq.com - Get ready to immerse yourself in all things Italian at the Everything's Italia Heritage Show 2024 - it's going to be a blast!\n",
      "Localización: [-77.6158291, 43.15568419999999]\n",
      "----------------\n",
      "--- Evento ---\n",
      "Título: Drake Milligan\n",
      "Categoría: concerts\n",
      "Comienza: 2024-10-06T00:00:00Z\n",
      "Termina: 2024-10-06T00:00:00Z\n",
      "País: US\n",
      "Descripción: Sourced from predicthq.com\n",
      "Localización: [-84.4581, 39.3408]\n",
      "----------------\n",
      "--- Evento ---\n",
      "Título: Josh Turner\n",
      "Categoría: concerts\n",
      "Comienza: 2024-10-06T00:00:00Z\n",
      "Termina: 2024-10-06T00:00:00Z\n",
      "País: US\n",
      "Descripción: Sourced from predicthq.com\n",
      "Localización: [-87.4409, 36.6586]\n",
      "----------------\n",
      "--- Evento ---\n",
      "Título: The Verve Pipe\n",
      "Categoría: concerts\n",
      "Comienza: 2024-10-06T00:00:00Z\n",
      "Termina: 2024-10-06T00:00:00Z\n",
      "País: US\n",
      "Descripción: Sourced from predicthq.com\n",
      "Localización: [-86.10915, 42.7881886]\n",
      "----------------\n",
      "--- Evento ---\n",
      "Título: Tori Kelly\n",
      "Categoría: concerts\n",
      "Comienza: 2024-10-06T00:00:00Z\n",
      "Termina: 2024-10-06T00:00:00Z\n",
      "País: US\n",
      "Descripción: Sourced from predicthq.com\n",
      "Localización: [-84.3913931, 33.7587418]\n",
      "----------------\n",
      "--- Evento ---\n",
      "Título: Maverick City Music\n",
      "Categoría: concerts\n",
      "Comienza: 2024-10-06T00:00:00Z\n",
      "Termina: 2024-10-06T00:00:00Z\n",
      "País: US\n",
      "Descripción: Sourced from predicthq.com\n",
      "Localización: [-98.43746519999999, 29.4270201]\n",
      "----------------\n",
      "--- Evento ---\n",
      "Título: Kishi Bashi\n",
      "Categoría: concerts\n",
      "Comienza: 2024-10-06T00:00:00Z\n",
      "Termina: 2024-10-06T00:00:00Z\n",
      "País: US\n",
      "Descripción: Sourced from predicthq.com\n",
      "Localización: [-78.4812131, 38.0306125]\n",
      "----------------\n",
      "--- Evento ---\n",
      "Título: The Lone Bellow at World Cafe Live\n",
      "Categoría: concerts\n",
      "Comienza: 2024-10-06T00:00:00Z\n",
      "Termina: 2024-10-06T00:00:00Z\n",
      "País: US\n",
      "Descripción: Sourced from predicthq.com\n",
      "Localización: [-75.1851448, 39.9520711]\n",
      "----------------\n",
      "--- Evento ---\n",
      "Título: Tony Stramella Band Live at Mother's Peninsula Grille\n",
      "Categoría: concerts\n",
      "Comienza: 2024-10-06T00:00:00Z\n",
      "Termina: 2024-10-06T03:00:00Z\n",
      "País: US\n",
      "Descripción: Sourced from predicthq.com - Enjoy an evening of great blues-rock music featuring Guitar Center Blues Masters Grand Finalist Tony Stramella\n",
      "Localización: [-76.5243382405, 39.0545585991]\n",
      "----------------\n"
     ]
    }
   ],
   "source": [
    "import requests\n",
    "\n",
    "# URL de la API de PredictHQ para eventos\n",
    "url_predictHQ = 'https://api.predicthq.com/v1/events'\n",
    "\n",
    "# Configurar parámetros de la solicitud\n",
    "params_predictHQ = {\n",
    "    'country': 'US',                # Ejemplo: país de interés\n",
    "    'category': 'concerts',         # Ejemplo: categoría de eventos\n",
    "    'start': '2023-01-01',          # Ejemplo: fecha de inicio de eventos\n",
    "    'end': '2023-12-31',            # Ejemplo: fecha de fin de eventos\n",
    "    'limit': 10,                    # Ejemplo: límite de resultados por página\n",
    "    'offset': 0                     # Ejemplo: offset para paginación\n",
    "}\n",
    "\n",
    "# Token de acceso para la autenticación Bearer\n",
    "token_predictHQ = '8aJUiAcEw6Y30YKQu8LzkCl_QqFNTUGEWH5OlV2B'  # Reemplaza con tu token real\n",
    "\n",
    "# Encabezados de la solicitud\n",
    "headers_predictHQ = {\n",
    "    'Authorization': f'Bearer {token_predictHQ}',\n",
    "    'Accept': 'application/json'\n",
    "}\n",
    "\n",
    "try:\n",
    "    # Realizar la solicitud GET a PredictHQ\n",
    "    response_predictHQ = requests.get(url_predictHQ, headers=headers_predictHQ, params=params_predictHQ)\n",
    "\n",
    "    # Verificar si la solicitud fue exitosa (código 200)\n",
    "    response_predictHQ.raise_for_status()\n",
    "\n",
    "    # Convertir la respuesta a JSON\n",
    "    data_predictHQ = response_predictHQ.json()\n",
    "\n",
    "    # Procesar los datos obtenidos\n",
    "    if 'results' in data_predictHQ:\n",
    "        events = data_predictHQ['results']\n",
    "        for event in events:\n",
    "            # Imprimir los detalles de cada evento\n",
    "            print(f\"--- Evento ---\")\n",
    "            print(f\"Título: {event['title']}\")\n",
    "            print(f\"Categoría: {event['category']}\")\n",
    "            print(f\"Comienza: {event['start']}\")\n",
    "            print(f\"Termina: {event['end']}\")\n",
    "            print(f\"País: {event['country']}\")\n",
    "            print(f\"Descripción: {event['description']}\")\n",
    "            print(f\"Localización: {event['location']}\")\n",
    "            print(\"----------------\")\n",
    "    else:\n",
    "        print('No se encontraron eventos.')\n",
    "\n",
    "except requests.exceptions.RequestException as e:\n",
    "    print(f'Error al realizar la solicitud a PredictHQ: {e}')\n",
    "\n",
    "except KeyError as e:\n",
    "    print(f'Error al procesar los datos de respuesta de PredictHQ: {e}')\n"
   ]
  },
  {
   "cell_type": "markdown",
   "id": "2b54103d-e666-4e6f-a2b9-ef6ea6850451",
   "metadata": {},
   "source": [
    "##### ALL EVENTS"
   ]
  },
  {
   "cell_type": "code",
   "execution_count": 46,
   "id": "8fd8be4a-ecfe-4576-abd2-c0e8b47f2e4a",
   "metadata": {},
   "outputs": [
    {
     "name": "stdout",
     "output_type": "stream",
     "text": [
      "Obtuvimos la página\n",
      "Cantidad de eventos: 24\n",
      "Nombre del Evento: EL DIA DEL SALVADORENO USA FESTIVAL 2024, Fecha del Evento: 03-04 Aug\n",
      "Nombre del Evento: Salsa and Bachata at 18 Social, Fecha del Evento: Multiple Dates\n",
      "Nombre del Evento: Salsa and Bachata at Zaya, Fecha del Evento: Multiple Dates\n",
      "Nombre del Evento: Halloween Downtown LA Club Crawl, Fecha del Evento: Multiple Dates\n",
      "Nombre del Evento: INFOLIST Red Carpet PRE COMIC-CON BASH in Los Angeles 2024!, Fecha del Evento: 17-18 Jul\n",
      "Nombre del Evento: POWER SUMMER JAM MUSIC FESTIVAL LOS ANGELES, Fecha del Evento: Multiple Dates\n",
      "Nombre del Evento: Ashton Irwin, Fecha del Evento: 18-19 Jul\n",
      "Nombre del Evento: Breaking Sound LA, Fecha del Evento: 26-27 Jul\n",
      "Nombre del Evento: Celebrating Teen Success I Luv Me!  Luxury Gala, Fecha del Evento: Sun, 06 Oct\n",
      "Nombre del Evento: \"Make A Move LA Summer Jam Tournament\", Fecha del Evento: Sat, 03 Aug\n",
      "Nombre del Evento: UP ALL NIGHT: Afrobeat, Reggaeton, Dancehall DANCE PARTY, Fecha del Evento: 12-13 Jul\n",
      "Nombre del Evento: MIMA Young Artist Competition Winner's Concert, Fecha del Evento: Sun, 14 Jul\n",
      "Nombre del Evento: Juneteenth Freedom Ride, L.A., Fecha del Evento: Thu, 19 Jun\n",
      "Nombre del Evento: Sunday Night Jazz with Jacqui Hylton and Special Guests, Fecha del Evento: Multiple Dates\n",
      "Nombre del Evento: Zach Louis (Concert), Fecha del Evento: Sun, 11 Aug\n",
      "Nombre del Evento: MIMA Young Artist Competition Winner's Concert, Fecha del Evento: Sun, 14 Jul\n",
      "Nombre del Evento: Die Antwoord at The Bellwether, Los Angeles, Fecha del Evento: Sat, 02 Nov\n",
      "Nombre del Evento: Jenny from Ace of Base, Haddaway, Snap, DJ Sash! | Los Angeles Concert | The 90s Throwback Night, Fecha del Evento: Sun, 06 Oct\n",
      "Nombre del Evento: UP ALL NIGHT: Afrobeat, Reggaeton, Dancehall DANCE PARTY, Fecha del Evento: 12-13 Jul\n",
      "Nombre del Evento: IYP Fest - Featuring Israels Arcade, Jackie Mendoza and boycomma, Fecha del Evento: Sat, 13 Jul\n",
      "Nombre del Evento: KCRW Summer Nights: CUMBIA SOMOS/WE ARE CUMBIA | Free, Fecha del Evento: Sat, 13 Jul\n",
      "Nombre del Evento: Sunday Night Jazz with Jacqui Hylton and Special Guests, Fecha del Evento: Multiple Dates\n",
      "Nombre del Evento: Ashton Irwin, Fecha del Evento: 18-19 Jul\n",
      "Nombre del Evento: Natti Natasha and RKM & Ken-Y, Fecha del Evento: Fri, 18 Apr\n"
     ]
    }
   ],
   "source": [
    "from bs4 import BeautifulSoup\n",
    "import requests\n",
    "\n",
    "# Define la URL de la página de eventos de música en Los Ángeles\n",
    "url = \"https://allevents.in/los%20angeles/music?ref=eventlist-category-filter#search\"\n",
    "# Realiza una solicitud HTTP GET a la URL\n",
    "response = requests.get(url)\n",
    "\n",
    "# Verifica si la solicitud fue exitosa (código de estado HTTP 200)\n",
    "if response.status_code == 200:\n",
    "    print(\"Obtuvimos la página\")\n",
    "    # Parsea el contenido HTML de la respuesta\n",
    "    soup = BeautifulSoup(response.content, 'html.parser')\n",
    "    # Busca todos los elementos 'li' con la clase 'event-card event-card-link'\n",
    "    eventos = soup.find_all('li', class_=\"event-card event-card-link\")\n",
    "    # Imprime la cantidad de eventos encontrados\n",
    "    print(f\"Cantidad de eventos: {len(eventos)}\")\n",
    "    # Itera sobre cada evento encontrado\n",
    "    for evento in eventos:\n",
    "        # Busca el nombre del evento dentro de un elemento 'h3' y elimina espacios en blanco\n",
    "        nombre_evento = evento.find('h3').text.strip()  # Ajusta 'h3' según la estructura HTML\n",
    "        # Busca la fecha del evento dentro de un elemento con la clase 'date' y elimina espacios en blanco\n",
    "        fecha_evento = evento.find(class_='date').text.strip()  # Ajusta 'fecha-clase-evento' según la estructura HTML\n",
    "    \n",
    "        # Imprime el nombre y la fecha de cada evento\n",
    "        print(f\"Nombre del Evento: {nombre_evento}, Fecha del Evento: {fecha_evento}\")\n",
    "else:\n",
    "    # Imprime un mensaje de error si la solicitud no fue exitosa\n",
    "    print(\"Error al cargar la web\")"
   ]
  },
  {
   "cell_type": "code",
   "execution_count": null,
   "id": "24d07a03-1f39-46a6-800f-05623037cef5",
   "metadata": {},
   "outputs": [],
   "source": []
  }
 ],
 "metadata": {
  "kernelspec": {
   "display_name": "Python 3 (ipykernel)",
   "language": "python",
   "name": "python3"
  },
  "language_info": {
   "codemirror_mode": {
    "name": "ipython",
    "version": 3
   },
   "file_extension": ".py",
   "mimetype": "text/x-python",
   "name": "python",
   "nbconvert_exporter": "python",
   "pygments_lexer": "ipython3",
   "version": "3.11.7"
  }
 },
 "nbformat": 4,
 "nbformat_minor": 5
}
