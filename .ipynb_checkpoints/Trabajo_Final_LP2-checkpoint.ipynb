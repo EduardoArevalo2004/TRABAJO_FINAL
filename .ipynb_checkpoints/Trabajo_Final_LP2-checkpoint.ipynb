{
 "cells": [
  {
   "cell_type": "markdown",
   "id": "386f9497-6429-409a-aeba-c49ebc84eb4a",
   "metadata": {},
   "source": [
    "# TRABAJO FINAL"
   ]
  },
  {
   "cell_type": "code",
   "execution_count": null,
   "id": "38589838-915d-4233-b5cd-c2dd27dae5ef",
   "metadata": {},
   "outputs": [],
   "source": []
  },
  {
   "cell_type": "code",
   "execution_count": null,
   "id": "947f72a8-03e1-481d-b75e-e8bb3ac4b093",
   "metadata": {},
   "outputs": [],
   "source": []
  },
  {
   "cell_type": "code",
   "execution_count": null,
   "id": "d8bf62e7-99d8-4c78-b7cd-ba16097157e9",
   "metadata": {},
   "outputs": [],
   "source": []
  },
  {
   "cell_type": "raw",
   "id": "b5468d15-35a1-4007-b6dc-8f1acf8bf73f",
   "metadata": {},
   "source": []
  }
 ],
 "metadata": {
  "kernelspec": {
   "display_name": "Python 3 (ipykernel)",
   "language": "python",
   "name": "python3"
  },
  "language_info": {
   "codemirror_mode": {
    "name": "ipython",
    "version": 3
   },
   "file_extension": ".py",
   "mimetype": "text/x-python",
   "name": "python",
   "nbconvert_exporter": "python",
   "pygments_lexer": "ipython3",
   "version": "3.11.7"
  }
 },
 "nbformat": 4,
 "nbformat_minor": 5
}
