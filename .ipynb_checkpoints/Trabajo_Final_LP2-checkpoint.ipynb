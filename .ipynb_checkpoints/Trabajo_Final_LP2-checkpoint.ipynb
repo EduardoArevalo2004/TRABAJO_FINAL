{
 "cells": [
  {
   "cell_type": "markdown",
   "id": "386f9497-6429-409a-aeba-c49ebc84eb4a",
   "metadata": {},
   "source": [
    "# TRABAJO FINAL"
   ]
  },
  {
   "cell_type": "markdown",
   "id": "bb84dca1",
   "metadata": {},
   "source": [
    "## INTRODUCCIÓN\n",
    "En la era digital actual, la accesibilidad y diversidad de eventos culturales en las ciudades son aspectos fundamentales que no solo enriquecen la vida urbana, sino que también reflejan la vitalidad cultural de una comunidad. El aumento de plataformas en línea ha democratizado el acceso a información sobre eventos, permitiendo a los ciudadanos y visitantes explorar una amplia gama de actividades culturales con facilidad. En este contexto, el presente proyecto se enfoca en comparar la oferta de eventos culturales utilizando las APIs gratuitas de Eventful y Eventbrite. Estas plataformas destacan por su capacidad de aglutinar eventos diversos, desde exposiciones artísticas y conciertos hasta conferencias y festivales, ofreciendo una ventana al dinámico panorama cultural de diversas ciudades alrededor del mundo"
   ]
  },
  {
   "cell_type": "markdown",
   "id": "d30e5132",
   "metadata": {},
   "source": [
    "## OBJETIVOS\n",
    "\n",
    "1. **Obtener datos de eventos:** Utilizar las APIs de Eventful y Eventbrite para recopilar información básica de eventos como títulos, fechas, ubicaciones y descripciones.\n",
    "\n",
    "\n",
    "2. **Comparar la cantidad de eventos:** Implementar un algoritmo para contar y comparar la cantidad total de eventos culturales disponibles en cada plataforma para las ciudades seleccionadas.\n",
    "\n",
    "\n",
    "3. **Visualizar resultados:** Presentar los resultados del análisis mediante una manera simple y comprensible que muestren las diferencias en la cantidad de eventos culturales entre las dos plataformas."
   ]
  },
  {
   "cell_type": "markdown",
   "id": "3ee2e6a3-5314-43af-abc6-b91e9b2d1fe9",
   "metadata": {},
   "source": [
    "### Metodología\n"
   ]
  },
  {
   "cell_type": "markdown",
   "id": "5f8f0421-4409-415a-981a-a241d7f01c5b",
   "metadata": {},
   "source": [
    "#### APIS UTILIZADAS"
   ]
  },
  {
   "cell_type": "markdown",
   "id": "544e8a03-dae0-4213-9b50-cddaba4a9f79",
   "metadata": {},
   "source": [
    "##### Eventful API\n",
    "La API de Eventful permite acceder a una extensa base de datos de eventos que ocurren en todo el mundo. Está diseñada para facilitar la integración de información sobre eventos en aplicaciones web y móviles, ofreciendo datos detallados sobre conciertos, festivales, exposiciones, conferencias, actividades deportivas y más.\n",
    "\n",
    "###### Características principales:\n",
    "\n",
    "* Fecha: Permite buscar eventos según diferentes criterios de tiempo, como fechas específicas, rangos de fechas, y términos relativos (por ejemplo, \"hoy\", \"esta semana\").\n",
    "* Ubicación: La API permite buscar eventos en ubicaciones específicas, ya sea por ciudad, estado, país o incluso por coordenadas geográficas precisas.\n",
    "* Categorías: Los eventos están categorizados, lo que permite filtrar búsquedas por tipos de eventos como música, deportes, arte, tecnología, etc.\n",
    "\n",
    "##### Eventbrite API\n",
    "La API de Eventbrite proporciona acceso a la plataforma de Eventbrite, una herramienta popular para la gestión y promoción de eventos. Esta API está diseñada para permitir a los desarrolladores integrar las funciones de Eventbrite en sus aplicaciones y sitios web, facilitando la búsqueda, creación, y gestión de eventos.\n",
    "\n",
    "###### Características principales:\n",
    "\n",
    "* Fecha: Permite buscar eventos utilizando un rango de fechas específico, definido en formato ISO 8601, asegurando precisión en las búsquedas temporales.\n",
    "* Ubicación: La API admite búsquedas por dirección y también permite especificar un radio de búsqueda alrededor de unas coordenadas específicas, ofreciendo flexibilidad geográfica. \n",
    "* Categorías: Eventbrite organiza eventos en diversas categorías, lo que facilita la búsqueda de eventos por tipos específicos como conferencias, seminarios, talleres, conciertos, etc.\n"
   ]
  },
  {
   "cell_type": "code",
   "execution_count": null,
   "id": "cef83ca9-1638-470f-a4eb-8df2ded5ece0",
   "metadata": {},
   "outputs": [],
   "source": []
  }
 ],
 "metadata": {
  "kernelspec": {
   "display_name": "Python 3 (ipykernel)",
   "language": "python",
   "name": "python3"
  },
  "language_info": {
   "codemirror_mode": {
    "name": "ipython",
    "version": 3
   },
   "file_extension": ".py",
   "mimetype": "text/x-python",
   "name": "python",
   "nbconvert_exporter": "python",
   "pygments_lexer": "ipython3",
   "version": "3.11.7"
  }
 },
 "nbformat": 4,
 "nbformat_minor": 5
}
