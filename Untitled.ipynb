{
 "cells": [
  {
   "cell_type": "code",
   "execution_count": 1,
   "id": "a2989e99-e159-48ed-b7d7-d359e8023f92",
   "metadata": {},
   "outputs": [
    {
     "name": "stdout",
     "output_type": "stream",
     "text": [
      "{'emails': [{'email': 'sebastian24ays@gmail.com', 'verified': False, 'primary': True}], 'id': '2224999891113', 'name': 'Sebastian Postigo', 'first_name': 'Sebastian', 'last_name': 'Postigo', 'is_public': False, 'image_id': None}\n"
     ]
    }
   ],
   "source": [
    "import requests\n",
    "\n",
    "# Define tu Private Token\n",
    "private_token = 'PDW2GK6QTMYMM7C3YWF5'\n",
    "\n",
    "# Define la URL base de la API de Eventbrite\n",
    "base_url = 'https://www.eventbriteapi.com/v3/'\n",
    "\n",
    "# Define el endpoint específico que quieres consultar\n",
    "endpoint = 'users/me/'\n",
    "\n",
    "# Realiza la solicitud GET a la API\n",
    "response = requests.get(\n",
    "    f\"{base_url}{endpoint}\",\n",
    "    headers={\n",
    "        'Authorization': f'Bearer {private_token}'\n",
    "    }\n",
    ")\n",
    "\n",
    "# Imprime la respuesta\n",
    "if response.status_code == 200:\n",
    "    print(response.json())\n",
    "else:\n",
    "    print(f\"Error: {response.status_code} - {response.text}\")\n"
   ]
  },
  {
   "cell_type": "code",
   "execution_count": null,
   "id": "66945dc3-5400-47a3-bca7-b79ca511fba1",
   "metadata": {},
   "outputs": [],
   "source": []
  }
 ],
 "metadata": {
  "kernelspec": {
   "display_name": "Python 3 (ipykernel)",
   "language": "python",
   "name": "python3"
  },
  "language_info": {
   "codemirror_mode": {
    "name": "ipython",
    "version": 3
   },
   "file_extension": ".py",
   "mimetype": "text/x-python",
   "name": "python",
   "nbconvert_exporter": "python",
   "pygments_lexer": "ipython3",
   "version": "3.11.7"
  }
 },
 "nbformat": 4,
 "nbformat_minor": 5
}
